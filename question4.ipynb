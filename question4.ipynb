{
 "cells": [
  {
   "cell_type": "code",
   "execution_count": null,
   "id": "9acceb64",
   "metadata": {},
   "outputs": [],
   "source": [
    "\n",
    "\n",
    "        "
   ]
  },
  {
   "cell_type": "code",
   "execution_count": 22,
   "id": "b634dffd",
   "metadata": {},
   "outputs": [
    {
     "ename": "NameError",
     "evalue": "name 'x' is not defined",
     "output_type": "error",
     "traceback": [
      "\u001b[1;31m---------------------------------------------------------------------------\u001b[0m",
      "\u001b[1;31mNameError\u001b[0m                                 Traceback (most recent call last)",
      "Cell \u001b[1;32mIn[22], line 13\u001b[0m\n\u001b[0;32m     11\u001b[0m \u001b[38;5;28;01mdef\u001b[39;00m \u001b[38;5;21madd_another\u001b[39m():\n\u001b[0;32m     12\u001b[0m  x\u001b[38;5;241m=\u001b[39m\u001b[38;5;28minput\u001b[39m(\u001b[38;5;124m\"\u001b[39m\u001b[38;5;124mAdd another Y or exit N\u001b[39m\u001b[38;5;124m\"\u001b[39m)\n\u001b[1;32m---> 13\u001b[0m \u001b[38;5;28;01mif\u001b[39;00m \u001b[43mx\u001b[49m\u001b[38;5;241m==\u001b[39m\u001b[38;5;124m\"\u001b[39m\u001b[38;5;124mY\u001b[39m\u001b[38;5;124m\"\u001b[39m:\n\u001b[0;32m     14\u001b[0m   \u001b[38;5;28mprint\u001b[39m(\u001b[38;5;124m\"\u001b[39m\u001b[38;5;124mAdding another ....\u001b[39m\u001b[38;5;124m\"\u001b[39m)\n\u001b[0;32m     15\u001b[0m   x \u001b[38;5;241m=\u001b[39m enterp()\n",
      "\u001b[1;31mNameError\u001b[0m: name 'x' is not defined"
     ]
    }
   ],
   "source": [
    "\n",
    "    products=[]\n",
    "def enterp():\n",
    "   x=input(\" Enter product name \")\n",
    "   return x\n",
    "def add_p(val,lst):\n",
    "   lst.append(val)\n",
    "   return lst   \n",
    "def display(lst):\n",
    "   print(\"Showing products\",lst)\n",
    "   add_another()\n",
    "def add_another():\n",
    "     x=input(\"Add another Y or exit N\")\n",
    "    if x==\"Y\":\n",
    "      print(\"Adding another ....\")\n",
    "      x = enterp()\n",
    "      r = add_p(x,products)\n",
    "      display(r)\n",
    "    elif x==\"N\":\n",
    "       print(\"displaying products\")\n",
    "       print(products)\n",
    "       print(\"exiting ....\")\n",
    "    else:\n",
    "       print(\"exiting ....\")\n",
    "    \n",
    "x = enterp()\n",
    "r = add_p(x,products)\n",
    "display(r)\n"
   ]
  },
  {
   "cell_type": "code",
   "execution_count": null,
   "id": "8a942716",
   "metadata": {},
   "outputs": [],
   "source": []
  }
 ],
 "metadata": {
  "kernelspec": {
   "display_name": "Python 3 (ipykernel)",
   "language": "python",
   "name": "python3"
  },
  "language_info": {
   "codemirror_mode": {
    "name": "ipython",
    "version": 3
   },
   "file_extension": ".py",
   "mimetype": "text/x-python",
   "name": "python",
   "nbconvert_exporter": "python",
   "pygments_lexer": "ipython3",
   "version": "3.11.1"
  }
 },
 "nbformat": 4,
 "nbformat_minor": 5
}
