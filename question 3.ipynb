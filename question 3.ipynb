{
 "cells": [
  {
   "cell_type": "code",
   "execution_count": 13,
   "id": "a613e95b",
   "metadata": {},
   "outputs": [],
   "source": [
    "data = [\"the living light\",\"happy\",\"old boy\", \"simple\",\"attenuate\",\"shy Ones\",\"toxic things\",\"silent words\",\"big Daddy\",\"juvenile\",\"mother's love\",\"the foxes\",\"Nigeria Election\",\"It today\"]\n",
    "def lilly(data):\n",
    "    less15morethan5 = []\n",
    "    greaterthan15 = []\n",
    "    notfit = []\n",
    "    \n",
    "    for string in data:\n",
    "        x = len(string)>5\n",
    "        g = len(string)<15\n",
    "        h = len(string)>15\n",
    "        if x and g:\n",
    "            less15morethan5.append(string)\n",
    "        elif h:\n",
    "            greaterthan15.append(string)\n",
    "        else:\n",
    "            doesntfit.append(string)\n",
    "        return less15morethan5, greaterthan15, notfit\n",
    "    \n",
    "    z=lilly(data)\n",
    "    print(z)\n",
    "    \n",
    "    \n",
    "     \n",
    "    "
   ]
  },
  {
   "cell_type": "code",
   "execution_count": null,
   "id": "1c72436a",
   "metadata": {},
   "outputs": [],
   "source": []
  },
  {
   "cell_type": "code",
   "execution_count": null,
   "id": "89106b8b",
   "metadata": {},
   "outputs": [],
   "source": []
  }
 ],
 "metadata": {
  "kernelspec": {
   "display_name": "Python 3 (ipykernel)",
   "language": "python",
   "name": "python3"
  },
  "language_info": {
   "codemirror_mode": {
    "name": "ipython",
    "version": 3
   },
   "file_extension": ".py",
   "mimetype": "text/x-python",
   "name": "python",
   "nbconvert_exporter": "python",
   "pygments_lexer": "ipython3",
   "version": "3.11.1"
  }
 },
 "nbformat": 4,
 "nbformat_minor": 5
}
