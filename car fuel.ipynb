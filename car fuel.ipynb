{
 "cells": [
  {
   "cell_type": "code",
   "execution_count": 9,
   "id": "b26449d1",
   "metadata": {},
   "outputs": [
    {
     "name": "stdout",
     "output_type": "stream",
     "text": [
      "amount of fuel consumed in three months is 1200.0\n"
     ]
    }
   ],
   "source": [
    "amountofdays= 6\n",
    "a= amountofdays\n",
    "amountofmonths= 3\n",
    "b= amountofmonths\n",
    "numberofweeksinthreemonths=4\n",
    "z=numberofweeksinthreemonths\n",
    "amountoflitresusedinsixdays=100\n",
    "x=amountoflitresusedinsixdays\n",
    "c=b*z\n",
    "s=c*a\n",
    "W=x*s/a\n",
    "print(\"amount of fuel consumed in three months is\", W )\n"
   ]
  },
  {
   "cell_type": "code",
   "execution_count": null,
   "id": "368d9cf0",
   "metadata": {},
   "outputs": [],
   "source": []
  },
  {
   "cell_type": "code",
   "execution_count": null,
   "id": "08b48687",
   "metadata": {},
   "outputs": [],
   "source": []
  }
 ],
 "metadata": {
  "kernelspec": {
   "display_name": "Python 3 (ipykernel)",
   "language": "python",
   "name": "python3"
  },
  "language_info": {
   "codemirror_mode": {
    "name": "ipython",
    "version": 3
   },
   "file_extension": ".py",
   "mimetype": "text/x-python",
   "name": "python",
   "nbconvert_exporter": "python",
   "pygments_lexer": "ipython3",
   "version": "3.11.1"
  }
 },
 "nbformat": 4,
 "nbformat_minor": 5
}
